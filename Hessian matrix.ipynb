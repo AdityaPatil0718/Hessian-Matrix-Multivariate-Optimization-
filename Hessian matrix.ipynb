{
 "cells": [
  {
   "cell_type": "code",
   "execution_count": 2,
   "metadata": {},
   "outputs": [],
   "source": [
    "import numpy as np\n",
    "from scipy.optimize import minimize"
   ]
  },
  {
   "cell_type": "code",
   "execution_count": 3,
   "metadata": {},
   "outputs": [],
   "source": [
    "def objective(x):\n",
    "    return (x[0]-2) ** 2 + (x[1]+3) ** 2 + 2*np.sin(x[0])*np.cos(x[1])"
   ]
  },
  {
   "cell_type": "code",
   "execution_count": 9,
   "metadata": {},
   "outputs": [],
   "source": [
    "x = np.array([0.0,0.1])"
   ]
  },
  {
   "cell_type": "code",
   "execution_count": 14,
   "metadata": {},
   "outputs": [
    {
     "name": "stdout",
     "output_type": "stream",
     "text": [
      "Optimization terminated successfully.\n",
      "         Current function value: -1.898165\n",
      "         Iterations: 4\n",
      "         Function evaluations: 10\n",
      "         Gradient evaluations: 10\n",
      "Optimization terminated successfully.\n",
      "         Current function value: -1.898165\n",
      "         Iterations: 5\n",
      "         Function evaluations: 6\n",
      "         Gradient evaluations: 6\n",
      "         Hessian evaluations: 5\n",
      "[ 1.78650807 -3.06993738]\n",
      " message: Optimization terminated successfully.\n",
      " success: True\n",
      "  status: 0\n",
      "     fun: -1.89816521759454\n",
      "       x: [ 1.787e+00 -3.070e+00]\n",
      "     nit: 5\n",
      "     jac: [ 9.577e-06  7.625e-06]\n",
      "    nfev: 6\n",
      "    njev: 6\n",
      "    nhev: 5\n"
     ]
    },
    {
     "name": "stderr",
     "output_type": "stream",
     "text": [
      "C:\\Users\\Aditya Deepak Patil\\AppData\\Local\\Temp\\ipykernel_5344\\2641971229.py:14: RuntimeWarning: Method CG does not use Hessian information (hess).\n",
      "  result_grd_decent = minimize(objective, x, method='CG', jac=gradient, hess=hessain_matrix, options={'disp':True})\n"
     ]
    }
   ],
   "source": [
    "#first Derivation\n",
    "def gradient(x):\n",
    "    dfdx0 = 2 * (x[0] - 2) + 2*np.cos(x[0]) * np.cos(x[1])\n",
    "    dfdx1 = 2 * (x[1] + 3) - 2*np.sin(x[0]) * np.sin(x[1])\n",
    "    return np.array([dfdx0, dfdx1])\n",
    "\n",
    "def hessain_matrix(x):\n",
    "    d2fdx0dx0 = 2 - 2 * np.sin(x[0]) * np.cos(x[1])\n",
    "    d2fdx0dx1 = -2 * np.cos(x[0]) * np.sin(x[1])\n",
    "    d2fdx1dx0 = -2 * np.cos(x[0]) * np.sin(x[1])\n",
    "    d2fdx1dx1 = 2 - 2 * np.sin(x[0]) * np.cos(x[1])\n",
    "    return np.array([[d2fdx0dx0, d2fdx0dx1], [d2fdx1dx0, d2fdx1dx1]])\n",
    "\n",
    "result_grd_decent = minimize(objective, x, method='CG', jac=gradient, hess=hessain_matrix, options={'disp':True})\n",
    "result_newtn_mthd = minimize(objective, x, method='Newton-CG', jac=gradient, hess=hessain_matrix, options={'disp':True})\n",
    "\n",
    "print(result_grd_decent.x)\n",
    "print(result_newtn_mthd)"
   ]
  },
  {
   "cell_type": "code",
   "execution_count": null,
   "metadata": {},
   "outputs": [],
   "source": []
  }
 ],
 "metadata": {
  "kernelspec": {
   "display_name": "Python 3",
   "language": "python",
   "name": "python3"
  },
  "language_info": {
   "codemirror_mode": {
    "name": "ipython",
    "version": 3
   },
   "file_extension": ".py",
   "mimetype": "text/x-python",
   "name": "python",
   "nbconvert_exporter": "python",
   "pygments_lexer": "ipython3",
   "version": "3.9.13"
  }
 },
 "nbformat": 4,
 "nbformat_minor": 2
}
